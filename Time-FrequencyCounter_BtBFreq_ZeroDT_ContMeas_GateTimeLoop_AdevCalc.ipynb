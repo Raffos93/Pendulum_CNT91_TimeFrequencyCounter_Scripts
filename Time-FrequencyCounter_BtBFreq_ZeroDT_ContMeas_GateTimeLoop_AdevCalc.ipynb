{
 "cells": [
  {
   "cell_type": "code",
   "execution_count": null,
   "metadata": {},
   "outputs": [],
   "source": [
    "import visa                             # Import PyVISA library\n",
    "import time\n",
    "from struct import *                    # Import Struct module (interpret strings as packed binary data)\n",
    "import numpy as np\n",
    "#import VISAresourceExtentions"
   ]
  },
  {
   "cell_type": "code",
   "execution_count": null,
   "metadata": {},
   "outputs": [],
   "source": [
    "# Initialization\n",
    "\n",
    "rm = visa.ResourceManager()             # Create Resource Manager object\n",
    "rs = rm.list_resources()                # Method to list the available resources\n",
    "print(rs[0])                            \n",
    "counter = rm.open_resource(rs[0])       # Assign the returned object to the instrument variable (i.e. counter)"
   ]
  },
  {
   "cell_type": "code",
   "execution_count": null,
   "metadata": {
    "scrolled": true
   },
   "outputs": [],
   "source": [
    "# Initial settings\n",
    "\n",
    "print(counter.query('*IDN?'))           # Query the Identification string \n",
    "counter.write('*RST;*CLS')              # Reset the instrument, clear the Error queue\n",
    "counter.timeout = 1e7                   # Acquisition timeout (ms) - set it higher than the acquisition time\n",
    "counter.query('SYST:ERR?')              # Error Checking "
   ]
  },
  {
   "cell_type": "code",
   "execution_count": null,
   "metadata": {
    "scrolled": true
   },
   "outputs": [],
   "source": [
    "#Basic settings\n",
    "\n",
    "counter.write(\"FUNC 'FREQ:BTB 1'\")                                 # Setup for frequency back-to-back measurement from channel A (1) - Set up for period back-to-back is \"FUNC 'PER:BTB 1'\" \n",
    "counter.write('CALC:AVER:STAT OFF')                                # Enable/disable statitics; \n",
    "counter.write('INP:LEV:AUTO OFF; :INP:LEV 0')                      # Enable/Disable autotrigger on channel A; Trigger level (V)\n",
    "counter.write('CAL:INT:AUTO OFF; :DISP:ENAB OFF')                  # Enable/Disable reciprocal counter that uses an interpolating technique to increase the resolution (if OFF -> Dead time = 0); Enable/Disable the display (if OFF increase the GPIB speed)\n",
    "counter.write('FORMAT:TINF ON; :FORMAT PACKED')                    # Read timestamp of each measurement; Redout in ASCII/REAL/PACKED mode - Readout format: ASCII/REAL -> [freq (Hz), tstamp (sec)] ; PACKED -> [freq (Hz), tstamp (picosec)] \n",
    "counter.query('SYST:ERR?')                                         # Error Checking \n",
    "#time.sleep(1)                                                      # Wait (sec)"
   ]
  },
  {
   "cell_type": "code",
   "execution_count": null,
   "metadata": {},
   "outputs": [],
   "source": [
    "#counter.write('*ESE 0;*SRE 0')                      # To be developed\n",
    "#counter.wait_on_event(counter, RQS, 10000)\n",
    "#counter.last_status\n",
    "#counter.query('*ESR?')\n",
    "#counter.read()\n",
    "#counter.query('SYST:ERR?')"
   ]
  },
  {
   "cell_type": "code",
   "execution_count": null,
   "metadata": {},
   "outputs": [],
   "source": [
    "# Fetch frequency/timestamps lists for different Gate times                                                             \n",
    "\n",
    "start = time.time()\n",
    "\n",
    "FreqTimeList = []                                           # Define list: list=[] ; Define numpy array:  arr=np.array([])\n",
    "\n",
    "Taulist = [1e-5 * 10**(n/5) for n in range(20)]             # Define list of gate times (sec) - NotEvenlySpaced: 1e-5 * 2n - EvenlySpaced: 1e-5 * 10**(n/5) - ...\n",
    "Sampleslist = [10]*20#[int(1e5 * 10**(-n/5)) for n in range(20)]    # Define list of samples to take for each gate time - [10**(5-i) for i in range(4) for x in range(5)] // int(1e5 * 10**(-n/5)) // 1000 // ...\n",
    "\n",
    "#Taulist = [1e-5, 2e-5, 4e-5, 6e-5, 8e-5, 1e-4, 2e-4, 4e-4, 6e-4, 8e-4, 1e-3, 2e-3, 4e-3, 6e-3, 8e-3, 1e-2, 2e-2, 4e-2, 6e-2, 8e-2]    \n",
    "#Sampleslist = [50000, 25000, 16667, 10000, 6250, 4000, 2565, 1588, 1011, 637, 402, 254, 160, 101, 64, 41, 26, 16, 11, 7]    \n",
    "\n",
    "for tau, samples in zip(Taulist, Sampleslist):\n",
    "\n",
    "    #samples = {tau == 1e-3: 100, tau == 1e-1: 10, tau == 1: 2}.get(True)    # Instead of if(): ... elif(): ... elif() ... \n",
    "        \n",
    "    #if (tau == 4e-5):   break                                               # Break the loop when condition is fulfilled\n",
    "        \n",
    "    print(f'Gate time = {tau} s, Samples = {samples}')            \n",
    "    \n",
    "    counter.write(f'TRIG:COUNT 1; :ARM:COUNT {samples}')                  # Set number of Samples (maximum = 1e5, for more set x=100) - N samples inside one block (Triggerings); Number of blocks (Armings)\n",
    "    counter.write(f'SENSE:ACQ:APER {tau}')                                # Set Gate time (sec)\n",
    "    counter.query('INIT;*OPC?')                                           # Initialize acquisition; *OPC? query waits until the acquisition ends \n",
    "    \n",
    "    x = 1\n",
    "    if (samples > 1e4): [x, samples] =  [10, samples/10]                  # Condition - Takes into account that maximum number of fetchable samples = 1e4\n",
    "        \n",
    "    for i in range(x):\n",
    "            \n",
    "        # Read Data in BINARY format (packed)\n",
    "    \n",
    "        #counter.write('FETCH:ARR? 1000')                                                              \n",
    "        #counter.query_binary_values(datatype='s', is_big_endian=True)                                  \n",
    "        bytesvalues = counter.query_binary_values(f'FETCH:ARR? {samples}', datatype='s', is_big_endian=True)   # Fetch Binary values - Rate = 7,313*10^3 Samples/s \n",
    "        freqtimelist = unpack('>'+'dQ'*int(samples), bytesvalues[0])                                           # Convert (unpack) into a readable format - Readout format (tuple) -> (freq [Hz], timestamps [ps], freq, tstamp, ...)\n",
    "        #freqtimelist = bytesvalues                                                                             # Save list of bytes\n",
    "        #print(bytesvalues) \n",
    "    \n",
    "        # Read Data in ASCII format\n",
    "    \n",
    "        #freqtimelist = counter.query_ascii_values(f'FETCH:ARR? {samples}', converter = 's')  # Fetch and Convert list of ASCII values into a list of strings \n",
    "    \n",
    "        #if  freqtimelist[-1] == '' :    del freqtimelist[-1]                                 # Delete the last element of the list when it is an empty string = ''\n",
    "        #freqtimelist[-1] = freqtimelist[-1].split('\\n')[0]                                   # Delete in the last element of the list of strings every character after the number ( i.e. \\n0E..)\n",
    "        #freqtimelist = [float(i) for i in freqtimelist]                                      # Convert list of strings into float numbers\n",
    "        #print(freqtimelist)\n",
    "    \n",
    "        if (i==0): freqtimeList = freqtimelist                            # Create a bigger List appending all the fetched data lists during the loop     \n",
    "        else:  freqtimeList = freqtimeList + freqtimelist        \n",
    "    \n",
    "        FreqTimeList.append(freqtimeList)                                 # Append a value to the list at each iteration\n",
    "         \n",
    "    end = time.time()     \n",
    "    print(end-start)                                                      # Acquisition time for each Gate time (sec)\n",
    "\n",
    "end = time.time()\n",
    "print(end-start)                                                          # Total acquisition time (sec)\n",
    "            \n",
    "counter.query('SYST:ERR?')  "
   ]
  },
  {
   "cell_type": "code",
   "execution_count": null,
   "metadata": {},
   "outputs": [],
   "source": [
    "# Write binary string to different files for each Gate time\n",
    "\n",
    "for tau, samples, freqtimeList in zip(Taulist, Sampleslist, FreqTimeList):\n",
    "    \n",
    "    BigBytesString = b''.join(freqtimeList)     # Join the all the bytes string elements of the list into one bytes string\n",
    "\n",
    "    f = open(f'/home/raffo/Scrivania/AllanDeviation/Counter_VCO/FreqBTB-Tstamps_Tau{tau}s_Samples{samples}_VCO_Binary', 'w+b')\n",
    "    f.write(BigBytesString)\n",
    "    f.close()"
   ]
  },
  {
   "cell_type": "code",
   "execution_count": null,
   "metadata": {},
   "outputs": [],
   "source": [
    "# Read binary string from different files for each Gate time\n",
    "\n",
    "FreqTimeList = []\n",
    "\n",
    "for tau, samples in zip(Taulist, Sampleslist):\n",
    "    \n",
    "    f = open(f'/home/raffo/Scrivania/AllanDeviation/Counter_VCO/FreqBTB-Tstamps_Tau{tau}s_Samples{samples}_VCO_Binary', 'r+b')\n",
    "    BigBytesString = f.read()\n",
    "\n",
    "    # Convert (unpack) binary string into a ASCII tuple\n",
    "\n",
    "    Bytes = len(BigBytesString)                                    # Number of bytes of the binary string\n",
    "    freqtimeList = unpack('>'+'dQ'*int(Bytes/16), BigBytesString)  # Bytes of the single (freq/tstamp) sample = 16 -> int(Bytes/16) is the total number of samples\n",
    "    FreqTimeList.append(freqtimeList)"
   ]
  },
  {
   "cell_type": "code",
   "execution_count": null,
   "metadata": {},
   "outputs": [],
   "source": [
    "# Overlapping ADEV calculation\n",
    "\n",
    "start = time.time()\n",
    "\n",
    "for tau, samples, freqtimeList in zip(Taulist, Sampleslist, FreqTimeList):\n",
    "\n",
    "    freqtimearray = np.array(freqtimeList)                     # Convert list to numpy array\n",
    "    freqarray=(freqtimearray[::2])                             # Take the elements of the array at even steps\n",
    "    #timearray=(freqtimearray[1::2])                            # Take the elements of the array at odd steps\n",
    "    \n",
    "    freqmean = freqarray.mean()                                # Calculate the mean frequency over all the frequency samples\n",
    "    #print(freqmean)\n",
    "    \n",
    "    Adevlist = []                                              # Define list: list=[] ; Define numpy array:  arr=np.array([])\n",
    "    \n",
    "    print(f'Gate time = {tau} s, Samples = {samples}') \n",
    "                \n",
    "    deltafreqarray = (freqarray[1:]-freqarray[:-1])**2         # Calculate the square of all the differences of consecutive pairs of frequencies\n",
    "    #print(len(deltafreqarray))\n",
    "    adev = (np.mean(deltafreqarray)/2)**(1/2)                  # Calculate Adev\n",
    "    print(adev)\n",
    "    #print(adev/freqmean)\n",
    "        \n",
    "    Adevlist.append(adev)                                                 # Append a value to the list at each iteration\n",
    "\n",
    "    #end = time.time()     \n",
    "    #print(end-start)                                                      # Acquisition time for each Gate time (sec)\n",
    "\n",
    "end = time.time()\n",
    "print(end-start)                                                          # Total acquisition time (sec)"
   ]
  },
  {
   "cell_type": "code",
   "execution_count": null,
   "metadata": {},
   "outputs": [],
   "source": [
    "print(Taulist)  \n",
    "print(Adevlist)\n",
    "print(Sampleslist)"
   ]
  },
  {
   "cell_type": "code",
   "execution_count": null,
   "metadata": {},
   "outputs": [],
   "source": [
    "# ADEV vs Gate time plot\n",
    "\n",
    "import matplotlib.pyplot as plt\n",
    "import pandas as pd\n",
    "\n",
    "# Convert lists to numpy arrays\n",
    "\n",
    "TauArray = np.array(Taulist)      \n",
    "AdevArray = np.array(Adevlist)\n",
    "SamplesArray = np.array(Sampleslist)\n",
    "\n",
    "print(repr(SamplesArray))\n",
    "print(repr(TauArray))\n",
    "print(repr(AdevArray))\n",
    "\n",
    "ADEVArray = AdevArray/freqmean   # Calculate normalized Adev\n",
    "\n",
    "print(repr(ADEVArray))\n",
    "\n",
    "plt.plot(TauArray, ADEVArray, 'o-')\n",
    "plt.xscale('log')\n",
    "plt.yscale('log')\n",
    "#plt.ticklabel_format(axis=\"y\", style=\"sci\", scilimits=(0,0))\n",
    "plt.title('ADEV vs Gate time')\n",
    "#plt.ylabel('Hz')\n",
    "plt.xlabel('sec')\n",
    "plt.show()"
   ]
  },
  {
   "cell_type": "code",
   "execution_count": null,
   "metadata": {},
   "outputs": [],
   "source": [
    "counter.write('*RST;*CLS') "
   ]
  },
  {
   "cell_type": "code",
   "execution_count": null,
   "metadata": {},
   "outputs": [],
   "source": [
    "counter.close()"
   ]
  }
 ],
 "metadata": {
  "kernelspec": {
   "display_name": "Python 3",
   "language": "python",
   "name": "python3"
  },
  "language_info": {
   "codemirror_mode": {
    "name": "ipython",
    "version": 3
   },
   "file_extension": ".py",
   "mimetype": "text/x-python",
   "name": "python",
   "nbconvert_exporter": "python",
   "pygments_lexer": "ipython3",
   "version": "3.6.7"
  }
 },
 "nbformat": 4,
 "nbformat_minor": 2
}
