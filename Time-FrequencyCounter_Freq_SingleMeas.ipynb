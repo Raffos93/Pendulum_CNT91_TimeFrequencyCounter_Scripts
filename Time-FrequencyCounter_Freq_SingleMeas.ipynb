{
 "cells": [
  {
   "cell_type": "code",
   "execution_count": null,
   "metadata": {},
   "outputs": [],
   "source": [
    "import visa                             # Import PyVISA library\n",
    "import time\n",
    "#import VISAresourceExtentions\n",
    "#import numpy as np"
   ]
  },
  {
   "cell_type": "code",
   "execution_count": null,
   "metadata": {},
   "outputs": [],
   "source": [
    "# Initialization\n",
    "\n",
    "rm = visa.ResourceManager()             # Create Resource Manager object\n",
    "rs = rm.list_resources()                # Method to list the available resources\n",
    "print(rs[0])                            \n",
    "counter = rm.open_resource(rs[0])       # Assign the returned object to the instrument variable (i.e. counter)"
   ]
  },
  {
   "cell_type": "code",
   "execution_count": null,
   "metadata": {},
   "outputs": [],
   "source": [
    "# Initial settings\n",
    "\n",
    "print(counter.query('*IDN?'))           # Query the Identification string \n",
    "counter.write('*RST;*CLS')              # Reset the instrument, clear the Error queue\n",
    "counter.timeout = 1e7                   # Acquisition timeout (ms) - set it higher than the acquisition time\n",
    "counter.query('SYST:ERR?')              # Error Checking "
   ]
  },
  {
   "cell_type": "code",
   "execution_count": null,
   "metadata": {},
   "outputs": [],
   "source": [
    "#Basic settings\n",
    "\n",
    "counter.write('CONF:FREQ (@1)')                       # Setup for frequency measurement from channel A (@1) \n",
    "counter.write('CALC:AVER:STAT OFF')                   # Enable/disable statitics\n",
    "counter.write('INP:LEV:AUTO OFF; :INP:LEV 0')         # Enable/Disable autotrigger on channel A; Trigger level (V)\n",
    "counter.write('FORMAT:TINF ON; :FORMAT ASCII')        # Read timestamp of each measurement (can also be omitted with CONF and MEAS); Redout in ASCII/REAL mode -> [freq (Hz), tstamp (sec)]\n",
    "counter.write('SENSE:ACQ:APER 2e-8')                  # Gate time (sec), minimum: 20ns\n",
    "counter.query('SYST:ERR?')                            # Error Checking                                                     "
   ]
  },
  {
   "cell_type": "code",
   "execution_count": null,
   "metadata": {},
   "outputs": [],
   "source": [
    "# Perform and read N consecutive individual measurements (Dead time = 10ms)\n",
    "\n",
    "start = time.time()                                                        \n",
    "                                                    \n",
    "for i in range(100): \n",
    "    \n",
    "    #counter.write('READ?')                                                 \n",
    "    #counter.read()                                                         # write & read == query\n",
    "    #freqtime = counter.query('READ?')                                      # Fetch list with string characters as its elements\n",
    "    #freqtime = counter.query_ascii_values('READ?')                         # Fetch list of ASCII values ( ValueError: 'could not convert string to float can occur' )\n",
    "    freqtime = counter.query_ascii_values('READ?', converter = 's')        # Fetch and Convert list of ASCII values into a list of strings\n",
    "    \n",
    "    freqtime[-1] = freqtime[-1].split('\\n')[0]                             # Delete in the last element of the list of strings every character after the number ( i.e. \\n0E..)\n",
    "    freqtime = [float(i) for i in freqtime]                                # Convert list of strings into float numbers\n",
    "    \n",
    "    print(freqtime)\n",
    "    \n",
    "end = time.time()\n",
    "print(end-start)                                                           # Total acquisition time (sec)\n",
    "counter.query('SYST:ERR?')                                                 # Error Checking"
   ]
  },
  {
   "cell_type": "code",
   "execution_count": null,
   "metadata": {},
   "outputs": [],
   "source": [
    "counter.write('*RST;*CLS')"
   ]
  },
  {
   "cell_type": "code",
   "execution_count": null,
   "metadata": {},
   "outputs": [],
   "source": [
    "counter.close()"
   ]
  }
 ],
 "metadata": {
  "kernelspec": {
   "display_name": "Python 3",
   "language": "python",
   "name": "python3"
  },
  "language_info": {
   "codemirror_mode": {
    "name": "ipython",
    "version": 3
   },
   "file_extension": ".py",
   "mimetype": "text/x-python",
   "name": "python",
   "nbconvert_exporter": "python",
   "pygments_lexer": "ipython3",
   "version": "3.6.7"
  }
 },
 "nbformat": 4,
 "nbformat_minor": 2
}
