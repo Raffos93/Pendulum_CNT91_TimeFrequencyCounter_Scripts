{
 "cells": [
  {
   "cell_type": "code",
   "execution_count": 1,
   "metadata": {},
   "outputs": [],
   "source": [
    "import visa                             # Import PyVISA library\n",
    "import time\n",
    "#import VISAresourceExtentions\n",
    "#import numpy as np"
   ]
  },
  {
   "cell_type": "code",
   "execution_count": 2,
   "metadata": {
    "collapsed": true
   },
   "outputs": [
    {
     "name": "stdout",
     "output_type": "stream",
     "text": [
      "USB0::5355::145::457158::0::INSTR\n"
     ]
    }
   ],
   "source": [
    "# Initialization\n",
    "\n",
    "rm = visa.ResourceManager()             # Create Resource Manager object\n",
    "rs = rm.list_resources()                # Method to list the available resources\n",
    "print(rs[0])                            \n",
    "counter = rm.open_resource(rs[0])       # Assign the returned object to the instrument variable (i.e. counter)"
   ]
  },
  {
   "cell_type": "code",
   "execution_count": 3,
   "metadata": {
    "collapsed": true
   },
   "outputs": [
    {
     "name": "stdout",
     "output_type": "stream",
     "text": [
      "PENDULUM, CNT-91, 457158, V1.31 06 Mar 2015 12:55\n",
      "\n"
     ]
    },
    {
     "data": {
      "text/plain": [
       "'0,\"No error\"\\n-'"
      ]
     },
     "execution_count": 3,
     "metadata": {},
     "output_type": "execute_result"
    }
   ],
   "source": [
    "# Initial settings\n",
    "\n",
    "print(counter.query('*IDN?'))           # Query the Identification string \n",
    "counter.write('*RST;*CLS')              # Reset the instrument, clear the Error queue\n",
    "counter.timeout = 1e7                   # Acquisition timeout (ms) - set it higher than the acquisition time\n",
    "counter.query('SYST:ERR?')              # Error Checking "
   ]
  },
  {
   "cell_type": "code",
   "execution_count": 4,
   "metadata": {
    "collapsed": true
   },
   "outputs": [
    {
     "data": {
      "text/plain": [
       "'0,\"No error\"\\n-'"
      ]
     },
     "execution_count": 4,
     "metadata": {},
     "output_type": "execute_result"
    }
   ],
   "source": [
    "#Basic settings\n",
    "\n",
    "counter.write('CONF:FREQ (@1)')                       # Setup for frequency measurement from channel A (@1) \n",
    "counter.write('CALC:AVER:STAT OFF')                   # Enable/disable statitics\n",
    "counter.write('INP:LEV:AUTO OFF; :INP:LEV 0')         # Enable/Disable autotrigger on channel A; Trigger level (V)\n",
    "counter.write('FORMAT:TINF ON; :FORMAT ASCII')        # Read timestamp of each measurement (can also be omitted with CONF and MEAS); Redout in ASCII/REAL mode -> [freq (Hz), tstamp (sec)]\n",
    "counter.write('SENSE:ACQ:APER 2e-8')                  # Gate time (sec), minimum: 20ns\n",
    "counter.query('SYST:ERR?')                            # Error Checking                                                     "
   ]
  },
  {
   "cell_type": "code",
   "execution_count": 5,
   "metadata": {
    "collapsed": true
   },
   "outputs": [
    {
     "name": "stdout",
     "output_type": "stream",
     "text": [
      "[38900000.0, 29.79926113866]\n",
      "[38890000.0, 29.82598863928]\n",
      "[38900000.0, 29.836916032]\n",
      "[38900000.0, 29.84778554769]\n",
      "[38860000.0, 29.85871845012]\n",
      "[38850000.0, 29.86964759423]\n",
      "[38880000.0, 29.88057400833]\n",
      "[38860000.0, 29.89138394232]\n",
      "[38870000.0, 29.90213923685]\n",
      "[38910000.0, 29.91295911268]\n",
      "[38870000.0, 29.92380303016]\n",
      "[38860000.0, 29.93472378432]\n",
      "[38880000.0, 29.94563006098]\n",
      "[38820000.0, 29.95658196668]\n",
      "[38850000.0, 29.96743829634]\n",
      "[38880000.0, 29.97823962914]\n",
      "[38880000.0, 29.98929158996]\n",
      "[38850000.0, 30.01625261397]\n",
      "[38880000.0, 30.02727969975]\n",
      "[38870000.0, 30.03823448773]\n",
      "[38880000.0, 30.04918005241]\n",
      "[38870000.0, 30.05986814898]\n",
      "[38860000.0, 30.07070748385]\n",
      "[38850000.0, 30.08149599183]\n",
      "[38870000.0, 30.09226148406]\n",
      "[38890000.0, 30.10322734039]\n",
      "[38860000.0, 30.11415308613]\n",
      "[38870000.0, 30.12531848635]\n",
      "[38860000.0, 30.13615915742]\n",
      "[38880000.0, 30.14716363898]\n",
      "[38880000.0, 30.1579634746]\n",
      "[38870000.0, 30.16882913009]\n",
      "[38920000.0, 30.17974910123]\n",
      "[38880000.0, 30.190709659]\n",
      "[38890000.0, 30.21776579403]\n",
      "[38840000.0, 30.22874334394]\n",
      "[38860000.0, 30.23972608816]\n",
      "[38810000.0, 30.25061846574]\n",
      "[38810000.0, 30.26140151537]\n",
      "[38890000.0, 30.27230964972]\n",
      "[38830000.0, 30.28321499854]\n",
      "[38880000.0, 30.29411917007]\n",
      "[38900000.0, 30.30529461321]\n",
      "[38860000.0, 30.31608126824]\n",
      "[38860000.0, 30.32698682673]\n",
      "[38880000.0, 30.33789258981]\n",
      "[38850000.0, 30.34885350618]\n",
      "[38880000.0, 30.3596747643]\n",
      "[38860000.0, 30.37058047674]\n",
      "[38880000.0, 30.38146677223]\n",
      "[38810000.0, 30.39245307533]\n",
      "[38900000.0, 30.41949226923]\n",
      "[38910000.0, 30.43041620823]\n",
      "[38840000.0, 30.44128999693]\n",
      "[38890000.0, 30.45209442072]\n",
      "[38910000.0, 30.46306687276]\n",
      "[38950000.0, 30.47377906982]\n",
      "[38870000.0, 30.48467237415]\n",
      "[38820000.0, 30.49546026649]\n",
      "[38880000.0, 30.50623214358]\n",
      "[38890000.0, 30.51717096935]\n",
      "[38850000.0, 30.52805793919]\n",
      "[38880000.0, 30.53908569426]\n",
      "[38840000.0, 30.54997354044]\n",
      "[38890000.0, 30.56090674821]\n",
      "[38890000.0, 30.57169922495]\n",
      "[38870000.0, 30.5825902603]\n",
      "[38810000.0, 30.59376297527]\n",
      "[38850000.0, 30.62072096502]\n",
      "[38880000.0, 30.63154809388]\n",
      "[38900000.0, 30.64247322104]\n",
      "[38850000.0, 30.65352955896]\n",
      "[38910000.0, 30.6644220377]\n",
      "[38870000.0, 30.67560206377]\n",
      "[38950000.0, 30.68657549378]\n",
      "[38880000.0, 30.69758702724]\n",
      "[38810000.0, 30.70853038511]\n",
      "[38890000.0, 30.71945143942]\n",
      "[38870000.0, 30.73037754868]\n",
      "[38890000.0, 30.7412368614]\n",
      "[38890000.0, 30.75201827247]\n",
      "[38880000.0, 30.76287032725]\n",
      "[38870000.0, 30.77390035196]\n",
      "[38850000.0, 30.7850315632]\n",
      "[38850000.0, 30.81171055626]\n",
      "[38840000.0, 30.8224654947]\n",
      "[38870000.0, 30.8332023572]\n",
      "[38860000.0, 30.84401331724]\n",
      "[38890000.0, 30.8549665129]\n",
      "[38870000.0, 30.86592233262]\n",
      "[38890000.0, 30.87691625856]\n",
      "[38870000.0, 30.88771779996]\n",
      "[38880000.0, 30.89855806244]\n",
      "[38830000.0, 30.90941104582]\n",
      "[38850000.0, 30.92025182659]\n",
      "[38870000.0, 30.93105712428]\n",
      "[38910000.0, 30.94197483764]\n",
      "[38810000.0, 30.95278600609]\n",
      "[38830000.0, 30.96376546206]\n",
      "[38860000.0, 30.97491737549]\n",
      "1.1857175827026367\n"
     ]
    },
    {
     "data": {
      "text/plain": [
       "'0,\"No error\"\\n.'"
      ]
     },
     "execution_count": 5,
     "metadata": {},
     "output_type": "execute_result"
    }
   ],
   "source": [
    "# Perform and read N consecutive individual measurements (Dead time = 10ms)\n",
    "\n",
    "start = time.time()                                                        \n",
    "                                                    \n",
    "for i in range(100): \n",
    "    \n",
    "    #counter.write('READ?')                                                 \n",
    "    #counter.read()                                                         # write & read == query\n",
    "    #freqtime = counter.query('READ?')                                      # Fetch list with string characters as its elements\n",
    "    #freqtime = counter.query_ascii_values('READ?')                         # Fetch list of ASCII values ( ValueError: 'could not convert string to float can occur' )\n",
    "    freqtime = counter.query_ascii_values('READ?', converter = 's')        # Fetch and Convert list of ASCII values into a list of strings\n",
    "    \n",
    "    freqtime[-1] = freqtime[-1].split('\\n')[0]                             # Delete in the last element of the list of strings every character after the number ( i.e. \\n0E..)\n",
    "    freqtime = [float(i) for i in freqtime]                                # Convert list of strings into float numbers\n",
    "    \n",
    "    print(freqtime)\n",
    "    \n",
    "end = time.time()\n",
    "print(end-start)                                                           # Total acquisition time (sec)\n",
    "counter.query('SYST:ERR?')                                                 # Error Checking"
   ]
  },
  {
   "cell_type": "code",
   "execution_count": 6,
   "metadata": {
    "collapsed": true
   },
   "outputs": [
    {
     "data": {
      "text/plain": [
       "(24, <StatusCode.success: 0>)"
      ]
     },
     "execution_count": 6,
     "metadata": {},
     "output_type": "execute_result"
    }
   ],
   "source": [
    "counter.write('*RST;*CLS') "
   ]
  },
  {
   "cell_type": "code",
   "execution_count": 7,
   "metadata": {},
   "outputs": [],
   "source": [
    "counter.close()"
   ]
  }
 ],
 "metadata": {
  "kernelspec": {
   "display_name": "Python 3",
   "language": "python",
   "name": "python3"
  },
  "language_info": {
   "codemirror_mode": {
    "name": "ipython",
    "version": 3
   },
   "file_extension": ".py",
   "mimetype": "text/x-python",
   "name": "python",
   "nbconvert_exporter": "python",
   "pygments_lexer": "ipython3",
   "version": "3.6.7"
  }
 },
 "nbformat": 4,
 "nbformat_minor": 2
}
