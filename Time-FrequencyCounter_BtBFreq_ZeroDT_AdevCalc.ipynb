{
 "cells": [
  {
   "cell_type": "code",
   "execution_count": null,
   "metadata": {},
   "outputs": [],
   "source": [
    "import visa                             # Import PyVISA library\n",
    "import time\n",
    "from struct import *                    # Import Struct module (interpret strings as packed binary data)\n",
    "import numpy as np\n",
    "#import VISAresourceExtentions"
   ]
  },
  {
   "cell_type": "code",
   "execution_count": null,
   "metadata": {},
   "outputs": [],
   "source": [
    "# Initialization\n",
    "\n",
    "rm = visa.ResourceManager()             # Create Resource Manager object\n",
    "rs = rm.list_resources()                # Method to list the available resources\n",
    "print(rs[0])                            \n",
    "counter = rm.open_resource(rs[0])       # Assign the returned object to the instrument variable (i.e. counter)"
   ]
  },
  {
   "cell_type": "code",
   "execution_count": null,
   "metadata": {},
   "outputs": [],
   "source": [
    "# Initial settings\n",
    "\n",
    "print(counter.query('*IDN?'))           # Query the Identification string \n",
    "counter.write('*RST;*CLS')              # Reset the instrument, clear the Error queue\n",
    "counter.timeout = 1e7                   # Acquisition timeout (ms) - set it higher than the acquisition time\n",
    "counter.query('SYST:ERR?')              # Error Checking "
   ]
  },
  {
   "cell_type": "code",
   "execution_count": null,
   "metadata": {},
   "outputs": [],
   "source": [
    "#Basic settings\n",
    "\n",
    "counter.write(\"FUNC 'FREQ:BTB 1'\")                      # Setup for frequency back-to-back measurement from channel A (1) - Set up for period back-to-back is \"FUNC 'PER:BTB 1'\" \n",
    "counter.write('CALC:AVER:STAT ON')                      # Enable/disable statitics;\n",
    "counter.write('INP:LEV:AUTO OFF; :INP:LEV 0')           # Enable/Disable autotrigger on channel A; Trigger level (V)\n",
    "counter.write('CAL:INT:AUTO OFF; :DISP:ENAB ON')        # Enable/Disable reciprocal counter that uses an interpolating technique to increase the resolution; Enable/Disable the display (if OFF increase the GPIB speed)\n",
    "counter.query('SYST:ERR?')                              # Error Checking    "
   ]
  },
  {
   "cell_type": "code",
   "execution_count": null,
   "metadata": {},
   "outputs": [],
   "source": [
    "#counter.write('*ESE 0;*SRE 0')                      # To be developed\n",
    "#counter.wait_on_event(counter, RQS, 10000)\n",
    "#counter.last_status\n",
    "#counter.query('*ESR?')\n",
    "#counter.read()\n",
    "#counter.query('SYST:ERR?')"
   ]
  },
  {
   "cell_type": "code",
   "execution_count": null,
   "metadata": {},
   "outputs": [],
   "source": [
    "# Calculate MEAN/MAX/MIN/SDEV/ADEV values (ascii format), only if 'CALC:AVER:STAT ON'\n",
    "\n",
    "counter.write('CALC:AVER:TYPE MEAN')                                      # Select the statistical function to be performed (MIN/MAX/MEAN/SDEV/ADEV)\n",
    "counter.write('FORMAT:TINF ON; :FORMAT ASCII')                            # Read timestamp of each measurement ; Redout in ASCII/REAL mode - Redout format: ASCII/REAL -> [freq (Hz), tstamp (sec)]\n",
    "counter.write('SENSE:ACQ:APER 4e-6; :CALC:AVER:COUNT 1e3')                # Gate time (sec) - (In statistics mode is the Pacing time of the samples), minimum: 4 microsec; Set the number of samples to use in statistics sampling                                      \n",
    "#time.sleep(1)                                                             # Wait (sec)                                                              \n",
    "\n",
    "start = time.time()\n",
    "\n",
    "for i in range(1):\n",
    "    \n",
    "    counter.query('INIT;*OPC?')                                           # Initialize acquisition; *OPC? query waits until the acquisition ends\n",
    "\n",
    "    #counter.write('CALC:DATA?')                                 \n",
    "    #counter.read()\n",
    "    #value = counter.query('CALC:DATA?')                                   # Fetch list with string characters as its elements\n",
    "    #value = counter.query_ascii_values('CALC:DATA?')                      # Fetch ASCII value ( ValueError: 'could not convert string to float can occur' ), sometimes doesn't work when timestamp is printed (i.e. with MIN/MAX )         \n",
    "    value = counter.query_ascii_values('CALC:DATA?', converter = 's')     # Fetch and Convert ASCII value into a string\n",
    "    \n",
    "    value[-1] = value[-1].split('\\n')[0]                                  # Delete in the string every character after the number ( i.e. \\n0E..)\n",
    "    value[0] = float(value[0])                                            # Convert string into float number\n",
    "    value[1] = float(value[1])                                            # Condition necessary when the last element of the list happens to be an empty string = '' \n",
    "    #print(value)                                                         # List format -> [value, timestamp]\n",
    "    \n",
    "    freqmean = value[0]\n",
    "    print(freqmean)\n",
    "    \n",
    "end = time.time()\n",
    "print(end-start)                                                           # Total acquisition time (sec)\n",
    "counter.query('SYST:ERR?')    "
   ]
  },
  {
   "cell_type": "code",
   "execution_count": null,
   "metadata": {},
   "outputs": [],
   "source": [
    "# Calculate ADEV for different Gate times\n",
    "\n",
    "counter.write('CALC:AVER:TYPE ADEV')                                      # Select the statistical function to be performed (MIN/MAX/MEAN/SDEV/ADEV)\n",
    "counter.write('FORMAT:TINF ON; :FORMAT ASCII')                            # Read timestamp of each measurement ; Redout in ASCII/REAL mode - Redout format: ASCII/REAL -> [freq (Hz), tstamp (sec)]\n",
    "#time.sleep(1)                                                             # Wait (sec)                                                                \n",
    "\n",
    "start = time.time()\n",
    "\n",
    "Taulist = []       # Define list: list=[] ; Define numpy array:  arr=np.array([])\n",
    "Adevlist = [] \n",
    "Sampleslist = []\n",
    "\n",
    "Samp=[50000, 25000, 16667, 10000, 6250, 4000, 2565, 1588, 1011, 637, 402, 254, 160, 101, 64, 41, 26, 16, 11, 7]    # Define list of samples to take for each gate time\n",
    "\n",
    "for i in range(4):\n",
    "    \n",
    "    x = i-5  # [-5,-4,-3,-2,-1,0,+1]\n",
    "    \n",
    "    for y in [0,1,2,3,4]:                                       # Iterations - NotEvenlySpaced: [1,2,4,6,8] - EvenlySpaced: [0,1,2,3,4]\n",
    "        \n",
    "        tau = (10**x)*10**(y/5)                                 # Gate time (sec) - NotEvenlySpaced: y*10**(x) - EvenlySpaced: (10**x)*10**(y/5)            \n",
    "        \n",
    "        samples = Samp[5*i+y]                                   # Number of Samples:  10**abs(x) - 1000 - ...\n",
    "        #samples = {x==-1: 100, x==0: 10, x==1: 2}.get(True)     # Instead of if(): ... elif(): ... elif() ... \n",
    "        \n",
    "        #if (x == -5 and y == 2):   break                        # Break the loop when condition is fulfilled\n",
    "        \n",
    "        print(f'Gate time = {tau} s, Samples = {samples}')            \n",
    "    \n",
    "        counter.write(f'SENSE:ACQ:APER {tau}; :CALC:AVER:COUNT {samples}')    # Set Gate time (sec) and number of Samples \n",
    "        counter.query('INIT;*OPC?')                                           # Initialize acquisition; *OPC? query waits until the acquisition ends \n",
    "        \n",
    "        #value = counter.query_ascii_values('CALC:DATA?')                     # Fetch and Convert ASCII value into a string\n",
    "        value = counter.query_ascii_values('CALC:DATA?', converter = 's')     # Fetch and Convert ASCII value into a string\n",
    "\n",
    "        value[-1] = value[-1].split('\\n')[0]                                  # Delete in the string every character after the number ( i.e. \\n0E..)\n",
    "        value[0] = float(value[0])                                            # Convert string into float number\n",
    "        value[1] = float(value[1])\n",
    "        print(value[0])\n",
    "        \n",
    "        Taulist.append(tau)                                                   # Append a value to the list at each iteration\n",
    "        Adevlist.append(value[0])\n",
    "        Sampleslist.append(samples)\n",
    "         \n",
    "        #end = time.time()     \n",
    "        #print(end-start)                                                      # Acquisition time for each Gate time (sec)\n",
    "\n",
    "end = time.time()\n",
    "print(end-start)                                                              # Total acquisition time (sec)\n",
    "            \n",
    "counter.query('SYST:ERR?')  "
   ]
  },
  {
   "cell_type": "code",
   "execution_count": null,
   "metadata": {},
   "outputs": [],
   "source": [
    "print(Taulist)  \n",
    "print(Adevlist)\n",
    "print(Sampleslist)"
   ]
  },
  {
   "cell_type": "code",
   "execution_count": null,
   "metadata": {},
   "outputs": [],
   "source": [
    "# ADEV vs Gate time plot\n",
    "\n",
    "import matplotlib.pyplot as plt\n",
    "import pandas as pd\n",
    "\n",
    "# Convert lists to numpy arrays\n",
    "\n",
    "TauArray = np.array(Taulist)      \n",
    "AdevArray = np.array(Adevlist)\n",
    "SamplesArray = np.array(Sampleslist)\n",
    "\n",
    "print(repr(SamplesArray))\n",
    "print(repr(TauArray))\n",
    "print(repr(AdevArray))\n",
    "\n",
    "ADEVArray = AdevArray/freqmean   # Calculate normalized Adev\n",
    "\n",
    "print(repr(ADEVArray))\n",
    "\n",
    "plt.plot(TauArray, ADEVArray, 'o-')\n",
    "plt.xscale('log')\n",
    "plt.yscale('log')\n",
    "#plt.ticklabel_format(axis=\"y\", style=\"sci\", scilimits=(0,0))\n",
    "plt.title('ADEV vs Gate time')\n",
    "#plt.ylabel('Hz')\n",
    "plt.xlabel('sec')\n",
    "plt.show()"
   ]
  },
  {
   "cell_type": "code",
   "execution_count": null,
   "metadata": {},
   "outputs": [],
   "source": [
    "#EvenlySpaced\n",
    "\n",
    "Eadev1=ADEVArray\n",
    "Etau1=TauArray"
   ]
  },
  {
   "cell_type": "code",
   "execution_count": null,
   "metadata": {},
   "outputs": [],
   "source": [
    "Eadev2=ADEVArray"
   ]
  },
  {
   "cell_type": "code",
   "execution_count": null,
   "metadata": {},
   "outputs": [],
   "source": [
    "Eadev3=ADEVArray"
   ]
  },
  {
   "cell_type": "code",
   "execution_count": null,
   "metadata": {},
   "outputs": [],
   "source": [
    "Eadev4=ADEVArray"
   ]
  },
  {
   "cell_type": "code",
   "execution_count": null,
   "metadata": {},
   "outputs": [],
   "source": [
    "Eadev5=ADEVArray"
   ]
  },
  {
   "cell_type": "code",
   "execution_count": null,
   "metadata": {},
   "outputs": [],
   "source": [
    "#NotEvenlySpaced\n",
    "\n",
    "NEadev1=ADEVArray\n",
    "NEtau1=TauArray"
   ]
  },
  {
   "cell_type": "code",
   "execution_count": null,
   "metadata": {},
   "outputs": [],
   "source": [
    "NEadev2=ADEVArray"
   ]
  },
  {
   "cell_type": "code",
   "execution_count": null,
   "metadata": {},
   "outputs": [],
   "source": [
    "NEadev3=ADEVArray"
   ]
  },
  {
   "cell_type": "code",
   "execution_count": null,
   "metadata": {},
   "outputs": [],
   "source": [
    "NEadev4=ADEVArray"
   ]
  },
  {
   "cell_type": "code",
   "execution_count": null,
   "metadata": {},
   "outputs": [],
   "source": [
    "NEadev5=ADEVArray"
   ]
  },
  {
   "cell_type": "code",
   "execution_count": null,
   "metadata": {},
   "outputs": [],
   "source": [
    "# Convert [1.4 2.5 6.7] -> [1.4, 2.5, 6.7]\n",
    "arr = list(map(float, input().split()))\n",
    "arr = np.array(arr)"
   ]
  },
  {
   "cell_type": "code",
   "execution_count": null,
   "metadata": {},
   "outputs": [],
   "source": [
    "print(repr(Etau1))\n",
    "print(repr(NEtau1))"
   ]
  },
  {
   "cell_type": "code",
   "execution_count": null,
   "metadata": {},
   "outputs": [],
   "source": [
    "print(repr(Eadev1))\n",
    "print(repr(Eadev2))\n",
    "print(repr(Eadev3))\n",
    "print(repr(Eadev4))\n",
    "print(repr(Eadev5))"
   ]
  },
  {
   "cell_type": "code",
   "execution_count": null,
   "metadata": {},
   "outputs": [],
   "source": [
    "print(repr(NEadev1))\n",
    "print(repr(NEadev2))\n",
    "print(repr(NEadev3))\n",
    "print(repr(NEadev4))\n",
    "print(repr(NEadev5))"
   ]
  },
  {
   "cell_type": "code",
   "execution_count": null,
   "metadata": {},
   "outputs": [],
   "source": [
    "#EvenlySpaced\n",
    "\n",
    "plt.plot(Etau1, Eadev1, 'o-')\n",
    "plt.xscale('log')\n",
    "plt.yscale('log')\n",
    "#plt.ticklabel_format(axis=\"y\", style=\"sci\", scilimits=(0,0))\n",
    "plt.title('ADEV vs Gate time')\n",
    "#plt.ylabel('Hz')\n",
    "plt.xlabel('sec')\n",
    "plt.show()"
   ]
  },
  {
   "cell_type": "code",
   "execution_count": null,
   "metadata": {},
   "outputs": [],
   "source": [
    "import matplotlib.pyplot as plt\n",
    "import pandas as pd"
   ]
  },
  {
   "cell_type": "code",
   "execution_count": null,
   "metadata": {},
   "outputs": [],
   "source": [
    "#EvenlySpaced\n",
    "#Superposed plots\n",
    "\n",
    "plt.figure(figsize=(12,8))\n",
    "\n",
    "plt.plot(Etau1, Eadev1, 'o--', linewidth=1, markersize=5, label='1')      #2=3=4 - 5=6=7=8=9 - \n",
    "plt.plot(Etau1, Eadev2, 'o--', linewidth=1, markersize=5, label='2')\n",
    "plt.plot(Etau1, Eadev3, 'o--', linewidth=1, markersize=5, label='3')\n",
    "plt.plot(Etau1, Eadev4, 'o--', linewidth=1, markersize=5, label='4')\n",
    "plt.plot(Etau1, Eadev5, 'o--', linewidth=1, markersize=5, label='5')\n",
    "\n",
    "\n",
    "plt.xscale('log')\n",
    "plt.yscale('log')\n",
    "#plt.ticklabel_format(axis=\"y\", style=\"sci\", scilimits=(0,0))\n",
    "plt.title('ADEV vs Gate time')\n",
    "#plt.ylabel('Hz')\n",
    "plt.xlabel('sec')\n",
    "plt.legend()\n",
    "plt.show()"
   ]
  },
  {
   "cell_type": "code",
   "execution_count": null,
   "metadata": {},
   "outputs": [],
   "source": [
    "#NotEvenlySpaced\n",
    "\n",
    "plt.plot(NEtau1, NEadev1, 'o-')\n",
    "plt.xscale('log')\n",
    "plt.yscale('log')\n",
    "#plt.ticklabel_format(axis=\"y\", style=\"sci\", scilimits=(0,0))\n",
    "plt.title('ADEV vs Gate time')\n",
    "#plt.ylabel('Hz')\n",
    "plt.xlabel('sec')\n",
    "plt.show()"
   ]
  },
  {
   "cell_type": "code",
   "execution_count": null,
   "metadata": {},
   "outputs": [],
   "source": [
    "#NotEvenlySpaced\n",
    "#Superposed plots\n",
    "\n",
    "plt.figure(figsize=(12,8))\n",
    "\n",
    "plt.plot(NEtau1, NEadev1, 'o--', linewidth=1, markersize=5, label='1')\n",
    "plt.plot(NEtau1, NEadev2, 'o--', linewidth=1, markersize=5, label='2')\n",
    "plt.plot(NEtau1, NEadev3, 'o--', linewidth=1, markersize=5, label='3')\n",
    "plt.plot(NEtau1, NEadev4, 'o--', linewidth=1, markersize=5, label='4')\n",
    "plt.plot(NEtau1, NEadev5, 'o--', linewidth=1, markersize=5, label='5')\n",
    "\n",
    "plt.xscale('log')\n",
    "plt.yscale('log')\n",
    "#plt.ticklabel_format(axis=\"y\", style=\"sci\", scilimits=(0,0))\n",
    "plt.title('ADEV vs Gate time')\n",
    "#plt.ylabel('Hz')\n",
    "plt.xlabel('sec')\n",
    "plt.legend()\n",
    "plt.show()"
   ]
  },
  {
   "cell_type": "code",
   "execution_count": null,
   "metadata": {},
   "outputs": [],
   "source": [
    "#Superposed plots\n",
    "#EvenlySpaced vs Not EvenlySpaced\n",
    "\n",
    "plt.plot(Etau1, Eadev1, 'o--', label='evenly spaced')\n",
    "plt.plot(NEtau1, NEadev1, 'o--', label='not evenly spaced')\n",
    "plt.xscale('log')\n",
    "plt.yscale('log')\n",
    "#plt.ticklabel_format(axis=\"y\", style=\"sci\", scilimits=(0,0))\n",
    "plt.title('ADEV vs Gate time')\n",
    "#plt.ylabel('Hz')\n",
    "plt.xlabel('sec')\n",
    "plt.legend()\n",
    "plt.show()"
   ]
  },
  {
   "cell_type": "code",
   "execution_count": null,
   "metadata": {},
   "outputs": [],
   "source": [
    "#Superposed plots\n",
    "#EvenlySpaced vs Not EvenlySpaced\n",
    "\n",
    "plt.figure(figsize=(12,8))\n",
    "\n",
    "plt.plot(Etau1, Eadev1, 'o--', linewidth=1, markersize=4, label='evenly spaced', color='b')\n",
    "plt.plot(Etau1, Eadev2, 'o--', linewidth=1, markersize=4, color='b')\n",
    "plt.plot(Etau1, Eadev3, 'o--', linewidth=1, markersize=4, color='b')\n",
    "plt.plot(Etau1, Eadev4, 'o--', linewidth=1, markersize=4, color='b')\n",
    "plt.plot(Etau1, Eadev5, 'o--', linewidth=1, markersize=4, color='b')\n",
    "plt.plot(NEtau1, NEadev1, 'o--', linewidth=1, markersize=4, label='not evenly spaced', color='r')\n",
    "plt.plot(NEtau1, NEadev2, 'o--', linewidth=1, markersize=4, color='r')\n",
    "plt.plot(NEtau1, NEadev3, 'o--', linewidth=1, markersize=4, color='r')\n",
    "plt.plot(NEtau1, NEadev4, 'o--', linewidth=1, markersize=4, color='r')\n",
    "plt.plot(NEtau1, NEadev5, 'o--', linewidth=1, markersize=4, color='r')\n",
    "plt.xscale('log')\n",
    "plt.yscale('log')\n",
    "#plt.ticklabel_format(axis=\"y\", style=\"sci\", scilimits=(0,0))\n",
    "plt.title('ADEV vs Gate time')\n",
    "#plt.ylabel('Hz')\n",
    "plt.xlabel('sec')\n",
    "plt.legend()\n",
    "plt.show()"
   ]
  }
 ],
 "metadata": {
  "kernelspec": {
   "display_name": "Python 3",
   "language": "python",
   "name": "python3"
  },
  "language_info": {
   "codemirror_mode": {
    "name": "ipython",
    "version": 3
   },
   "file_extension": ".py",
   "mimetype": "text/x-python",
   "name": "python",
   "nbconvert_exporter": "python",
   "pygments_lexer": "ipython3",
   "version": "3.6.7"
  }
 },
 "nbformat": 4,
 "nbformat_minor": 2
}
