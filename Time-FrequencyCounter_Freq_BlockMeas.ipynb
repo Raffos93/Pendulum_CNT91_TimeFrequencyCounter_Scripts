{
 "cells": [
  {
   "cell_type": "code",
   "execution_count": null,
   "metadata": {},
   "outputs": [],
   "source": [
    "import visa                             # Import PyVISA library\n",
    "import time\n",
    "#import VISAresourceExtentions\n",
    "#import numpy as np"
   ]
  },
  {
   "cell_type": "code",
   "execution_count": null,
   "metadata": {},
   "outputs": [],
   "source": [
    "# Initialization\n",
    "\n",
    "rm = visa.ResourceManager()             # Create Resource Manager object\n",
    "rs = rm.list_resources()                # Method to list the available resources\n",
    "print(rs[0])                            \n",
    "counter = rm.open_resource(rs[0])       # Assign the returned object to the instrument variable (i.e. counter)"
   ]
  },
  {
   "cell_type": "code",
   "execution_count": null,
   "metadata": {},
   "outputs": [],
   "source": [
    "# Initial settings\n",
    "\n",
    "print(counter.query('*IDN?'))           # Query the Identification string \n",
    "counter.write('*RST;*CLS')              # Reset the instrument, clear the Error queue\n",
    "counter.timeout = 1e7                   # Acquisition timeout (ms) - set it higher than the acquisition time\n",
    "counter.query('SYST:ERR?')              # Error Checking "
   ]
  },
  {
   "cell_type": "code",
   "execution_count": null,
   "metadata": {},
   "outputs": [],
   "source": [
    "#Basic settings\n",
    "\n",
    "counter.write(\"FUNC 'FREQ 1'\")                          # Setup for frequency measurement from channel A (1) \n",
    "counter.write('INP:LEV:AUTO OFF; :INP:LEV 0')           # Enable/Disable autotrigger on channel A; Trigger level (V)\n",
    "counter.query('SYST:ERR?')                              # Error Checking                         "
   ]
  },
  {
   "cell_type": "code",
   "execution_count": null,
   "metadata": {},
   "outputs": [],
   "source": [
    "# Calculate MEAN/MAX/MIN/SDEV/ADEV values (ascii format), only if 'CALC:AVER:STAT ON'\n",
    "\n",
    "counter.write('CALC:AVER:STAT ON')                                        # Enable/disable statitics; \n",
    "counter.write('CALC:AVER:TYPE MEAN')                                      # Select the statistical function to be performed (MIN/MAX/MEAN/SDEV/ADEV)\n",
    "counter.write('FORMAT:TINF ON; :FORMAT ASCII')                            # Read timestamp of each measurement (can also be omitted with CONF and MEAS); Redout in ASCII/REAL mode -> [freq (Hz), tstamp (sec)]\n",
    "counter.write('SENSE:ACQ:APER 2e-8; :CALC:AVER:COUNT 1e3')                # Gate time (sec), minimum: 20ns - Dead time = 6-8 microsec; Set the number of samples to use in statistics sampling                                      \n",
    "#time.sleep(1)                                                             # Wait (sec)                                                           \n",
    "\n",
    "start = time.time()\n",
    "\n",
    "for i in range(1):\n",
    "    \n",
    "    counter.query('INIT;*OPC?')                                           # Initialize acquisition; *OPC? query waits until the acquisition ends \n",
    "   \n",
    "    #counter.write('CALC:DATA?')                                 \n",
    "    #counter.read()\n",
    "    #value = counter.query('CALC:DATA?')                                   # Fetch list with string characters as its elements\n",
    "    #value = counter.query_ascii_values('CALC:DATA?')                      # Fetch ASCII value ( ValueError: 'could not convert string to float can occur' ), sometimes doesn't work when timestamp is printed (i.e. with MIN/MAX )         \n",
    "    value = counter.query_ascii_values('CALC:DATA?', converter = 's')     # Fetch and Convert ASCII value into a string\n",
    "\n",
    "    value[-1] = value[-1].split('\\n')[0]                                  # Delete in the string every character after the number ( i.e. \\n0E..)\n",
    "    value[0] = float(value[0])                                            # Convert string into float number\n",
    "    value[1] = float(value[1])                                            # Condition necessary when the last element of the list happens to be an empty string = '' \n",
    "\n",
    "    print(value)                                                          # List format -> [value, timestamp]\n",
    "    \n",
    "end = time.time()\n",
    "print(end-start)                                                          # Total acquisition time (sec)\n",
    "counter.query('SYST:ERR?')                                                # Error Checking "
   ]
  },
  {
   "cell_type": "code",
   "execution_count": null,
   "metadata": {},
   "outputs": [],
   "source": [
    "# Perform  M ('ARM:COUNT') block measurements of N ('TRIG:COUNT') samples each (Dead time = 6-8 microsec)\n",
    "# Fetch the data of one acquisiton ( Total number of samples/measurements = M*N )\n",
    "\n",
    "counter.write('CALC:AVER:STAT OFF')                     # Enable/disable statitics; \n",
    "counter.write('CAL:INT:AUTO OFF; :DISP:ENAB OFF')       # Enable/Disable reciprocal counter that uses an interpolating technique to increase the resolution (if OFF -> Dead time = 4 microsec); Enable/Disable the display (if OFF increase the GPIB speed)\n",
    "counter.write('FORMAT:TINF ON; :FORMAT ASCII')          # Read timestamp of each measurement (can also be omitted with CONF and MEAS); Redout in ASCII/REAL mode -> [freq (Hz), tstamp (sec)]\n",
    "counter.write('SENSE:ACQ:APER 2e-8')                    # Gate time (sec), minimum: 20ns - Dead time = 6-8 microsec; Set the number of samples to use in statistics sampling                                      \n",
    "counter.write('TRIG:COUNT 1e3; :ARM:COUNT 1e1')         # Measure N samples inside one block (Triggerings); Number M of blocks (Armings) - Max(N*M) = 3.5e6 (Size of the memory)\n",
    "counter.query('SYST:ERR?')                              # Error Checking  \n",
    "#time.sleep(1)                                           # Wait (sec)"
   ]
  },
  {
   "cell_type": "code",
   "execution_count": null,
   "metadata": {},
   "outputs": [],
   "source": [
    "# Fetch the data in one cycle \n",
    "\n",
    "counter.query('INIT;*OPC?')                                                       # Initialize acquisition; *OPC? query waits until the acquisition ends\n",
    "\n",
    "start = time.time()\n",
    "\n",
    "#counter.write('FETCH:ARR? 1e3')                   \n",
    "#counter.read()                                           \n",
    "#freqtimelist = counter.query('FETCH:ARR? 1e3')                                    # Fetch list with string characters as its elements\n",
    "#freqtimelist = counter.query_ascii_values('FETCH:ARR? 1e3')                       # Fetch list of ASCII values ( ValueError: 'could not convert string to float can occur' )            \n",
    "freqtimelist = counter.query_ascii_values('FETCH:ARR? 1e3', converter = 's')      # Fetch and Convert list of ASCII values into a list of strings (Maximum Fetchable samples = 1e4)\n",
    "    \n",
    "if  freqtimelist[-1] == '' :    del freqtimelist[-1]                              # Delete the last element of the list when it is an empty string = '' \n",
    "\n",
    "freqtimelist[-1] = freqtimelist[-1].split('\\n')[0]                                # Delete in the last element of the list of strings every character after the number ( i.e. \\n0E..)\n",
    "freqtimelist = [float(i) for i in freqtimelist]                                   # Convert list of strings into float numbers\n",
    "\n",
    "print(freqtimelist)\n",
    "\n",
    "end = time.time()\n",
    "print(end-start)                                                                  # Total acquisition time (sec)\n",
    "counter.query('SYST:ERR?')                                                        # Error Checking  "
   ]
  },
  {
   "cell_type": "code",
   "execution_count": null,
   "metadata": {},
   "outputs": [],
   "source": [
    "# Fetch the data over multiple cycles \n",
    "\n",
    "counter.query('INIT;*OPC?')                                                             # Initialize acquisition; *OPC? query waits until the acquisition ends\n",
    "\n",
    "start = time.time()\n",
    "\n",
    "for i in range(10):\n",
    "        \n",
    "    #counter.write('FETCH:ARR? 1e3')                   \n",
    "    #counter.read()                                                  \n",
    "    #freqtimelist = counter.query('FETCH:ARR? 1e3')                                     # Fetch list with string characters as its elements\n",
    "    #freqtimelist = counter.query_ascii_values('FETCH:ARR? 1e3')                        # Fetch list of ASCII values ( ValueError: 'could not convert string to float can occur' )            \n",
    "    freqtimelist = counter.query_ascii_values('FETCH:ARR? 1e3', converter = 's')       # Fetch and Convert list of ASCII values into a list of strings (Maximum Fetchable samples = 1e4)\n",
    "    \n",
    "    if  freqtimelist[-1] == '' :    del freqtimelist[-1]                               # Delete the last element of the list when it is an empty string = ''\n",
    "\n",
    "    freqtimelist[-1] = freqtimelist[-1].split('\\n')[0]                                 # Delete in the last element of the list of strings every character after the number ( i.e. \\n0E..)\n",
    "    freqtimelist = [float(i) for i in freqtimelist]                                    # Convert list of strings into float numbers                                 \n",
    "        \n",
    "    print(freqtimelist)\n",
    "\n",
    "    if (i==0): freqtimeList = freqtimelist                                             # Create a bigger List appending all the fetched data lists during the loop \n",
    "    else:  freqtimeList = freqtimeList + freqtimelist \n",
    "        \n",
    "    end = time.time()\n",
    "    print(end-start)                                                                   # Single acquisition time (sec)\n",
    "    \n",
    "end = time.time()\n",
    "print(end-start)                                                                       # Total acquisition time (sec)\n",
    "counter.query('SYST:ERR?')                                                             # Error Checking  "
   ]
  },
  {
   "cell_type": "code",
   "execution_count": null,
   "metadata": {},
   "outputs": [],
   "source": [
    "counter.write('*RST;*CLS') "
   ]
  },
  {
   "cell_type": "code",
   "execution_count": null,
   "metadata": {},
   "outputs": [],
   "source": [
    "counter.close()"
   ]
  }
 ],
 "metadata": {
  "kernelspec": {
   "display_name": "Python 3",
   "language": "python",
   "name": "python3"
  },
  "language_info": {
   "codemirror_mode": {
    "name": "ipython",
    "version": 3
   },
   "file_extension": ".py",
   "mimetype": "text/x-python",
   "name": "python",
   "nbconvert_exporter": "python",
   "pygments_lexer": "ipython3",
   "version": "3.6.7"
  }
 },
 "nbformat": 4,
 "nbformat_minor": 2
}
