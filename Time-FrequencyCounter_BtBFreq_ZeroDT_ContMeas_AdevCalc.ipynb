{
 "cells": [
  {
   "cell_type": "code",
   "execution_count": null,
   "metadata": {},
   "outputs": [],
   "source": [
    "import visa                             # Import PyVISA library\n",
    "import time\n",
    "from struct import *                    # Import Struct module (interpret strings as packed binary data)\n",
    "import numpy as np\n",
    "#import VISAresourceExtentions"
   ]
  },
  {
   "cell_type": "code",
   "execution_count": null,
   "metadata": {},
   "outputs": [],
   "source": [
    "# Initialization\n",
    "\n",
    "rm = visa.ResourceManager()             # Create Resource Manager object\n",
    "rs = rm.list_resources()                # Method to list the available resources\n",
    "print(rs[0])                            \n",
    "counter = rm.open_resource(rs[0])       # Assign the returned object to the instrument variable (i.e. counter)"
   ]
  },
  {
   "cell_type": "code",
   "execution_count": null,
   "metadata": {},
   "outputs": [],
   "source": [
    "# Initial settings\n",
    "\n",
    "print(counter.query('*IDN?'))           # Query the Identification string \n",
    "counter.write('*RST;*CLS')              # Reset the instrument, clear the Error queue\n",
    "counter.timeout = 1e7                   # Acquisition timeout (ms) - set it higher than the acquisition time\n",
    "counter.query('SYST:ERR?')              # Error Checking "
   ]
  },
  {
   "cell_type": "code",
   "execution_count": null,
   "metadata": {},
   "outputs": [],
   "source": [
    "#Basic settings\n",
    "\n",
    "counter.write(\"FUNC 'FREQ:BTB 1'\")                                 # Setup for frequency back-to-back measurement from channel A (1) - Set up for period back-to-back is \"FUNC 'PER:BTB 1'\" \n",
    "counter.write('CALC:AVER:STAT OFF')                                # Enable/disable statitics; \n",
    "counter.write('INP:LEV:AUTO OFF; :INP:LEV 0')                      # Enable/Disable autotrigger on channel A; Trigger level (V)\n",
    "\n",
    "counter.write('CAL:INT:AUTO OFF; :DISP:ENAB OFF')                  # Enable/Disable reciprocal counter that uses an interpolating technique to increase the resolution (if OFF -> Dead time = 0); Enable/Disable the display (if OFF increase the GPIB speed)\n",
    "counter.write('FORMAT:TINF ON; :FORMAT PACKED')                    # Read timestamp of each measurement; Redout in ASCII/REAL/PACKED mode - Readout format: ASCII/REAL -> [freq (Hz), tstamp (sec)] ; PACKED -> [freq (Hz), tstamp (picosec)] \n",
    "counter.write('SENSE:ACQ:APER 4e-6')                               # Gate/Pacing time (sec), minimum: 4 microsec\n",
    "counter.write('TRIG:COUNT 1; :ARM:COUNT 3e6')                      # Measure N samples inside one block (Triggerings); Number M of blocks (Armings) - Max(N*M) = 3.5e6 (Size of the memory) - with CNT-91 it can be set to INF (non-stop continuous measurements), with minimum Gate time = 50 microsec (recommended: 100 microsec)\n",
    "counter.query('SYST:ERR?')                                         # Error Checking \n",
    "#time.sleep(1)                                                      # Wait (sec)"
   ]
  },
  {
   "cell_type": "code",
   "execution_count": null,
   "metadata": {},
   "outputs": [],
   "source": [
    "# Perform  M ('ARM:COUNT') block measurements of 1 ('TRIG:COUNT') sample each (Zero Dead time between samples/blocks)\n",
    "# Fetch the data of one acquisiton ( Total number of samples/measurements = M ) over multiple cycles \n",
    "\n",
    "##### If M < 3.5e6 samples, then the minimum Gate time = 4e-6s ('INIT:CONT OFF'), if you want to fetch M > 3.5e6 samples ('INIT:CONT ON'), then the minimum Gate time = 5e-5s (recommended: 1e-4s) #####\n",
    "\n",
    "#counter.write('INIT:CONT ON')               # Initialize infinite continuous acquisition ( only if ':ARM:COUNT' is set to INF ) - Arm loop will continue endlessly for 107 days\n",
    "#counter.query('INIT;*OPC?')                 # Initialize acquisition; *OPC? query waits until the acquisition ends\n",
    "\n",
    "start = time.time()\n",
    "\n",
    "for i in range(300):\n",
    "    \n",
    "    # Read Data in BINARY format (packed)\n",
    "    \n",
    "    #counter.write('FETCH:ARR? 1000')                                                              \n",
    "    #counter.query_binary_values(datatype='s', is_big_endian=True)                                  \n",
    "    bytesvalues = counter.query_binary_values('FETCH:ARR? 1e4', datatype='s', is_big_endian=True)   # Fetch Binary values - Rate = 7,313*10^3 Samples/s (Maximum fetchable samples = 1e4)\n",
    "    freqtimelist = unpack('>'+'dQ'*int(1e4), bytesvalues[0])                                        # Convert (unpack) into a readable format - Readout format (tuple) -> (freq [Hz], timestamps [ps], freq, tstamp, ...)\n",
    "    #freqtimelist = bytesvalues                                                                      # Save list of bytes\n",
    "    #print(bytesvalues) \n",
    "    \n",
    "    # Read Data in ASCII format\n",
    "    \n",
    "    #freqtimelist = counter.query_ascii_values('FETCH:ARR? 1e4', converter = 's')  # Fetch and Convert list of ASCII values into a list of strings (Maximum Fetchable samples = 1e4)\n",
    "    \n",
    "    #if  freqtimelist[-1] == '' :    del freqtimelist[-1]                          # Delete the last element of the list when it is an empty string = ''\n",
    "    #freqtimelist[-1] = freqtimelist[-1].split('\\n')[0]                            # Delete in the last element of the list of strings every character after the number ( i.e. \\n0E..)\n",
    "    #freqtimelist = [float(i) for i in freqtimelist]                               # Convert list of strings into float numbers\n",
    "    print(freqtimelist)                                                         \n",
    "    \n",
    "    if (i==0): freqtimeList = freqtimelist                                        # Create a bigger List appending all the fetched data lists during the loop     \n",
    "    else:  freqtimeList = freqtimeList + freqtimelist    \n",
    "           \n",
    "    end = time.time() \n",
    "    print(end-start)                                                              # Single acquisition time (sec)\n",
    "    \n",
    "#print(len(freqtimeList))                                                         # Number of elements of the Big List\n",
    "                                                \n",
    "end = time.time()\n",
    "print(end-start)                                                                  # Total acquisition time (sec)\n",
    "#counter.query('SYST:ERR?')                                                       # Error Checking "
   ]
  },
  {
   "cell_type": "code",
   "execution_count": null,
   "metadata": {},
   "outputs": [],
   "source": [
    "# Write binary string to file\n",
    "\n",
    "BigBytesString = b''.join(freqtimeList)     # Join the all the bytes string elements of the list into one bytes string\n",
    "\n",
    "f = open('/home/raffo/Scrivania/AllanDeviation/Counter_VCO/FreqBTB-Tstamps_Tau4e-6s_Samples3e6_VCO_Binary', 'w+b')\n",
    "f.write(BigBytesString)\n",
    "f.close()"
   ]
  },
  {
   "cell_type": "code",
   "execution_count": null,
   "metadata": {},
   "outputs": [],
   "source": [
    "# Read binary string from file\n",
    "\n",
    "f = open('/home/raffo/Scrivania/AllanDeviation/Counter_VCO/FreqBTB-Tstamps_Tau4e-6s_Samples3e6_VCO_Binary', 'r+b')\n",
    "BigBytesString = f.read()\n",
    "\n",
    "# Convert (unpack) binary string into a ASCII tuple\n",
    "\n",
    "Bytes = len(BigBytesString)                                    # Number of bytes of the binary string\n",
    "freqtimeList = unpack('>'+'dQ'*int(Bytes/16), BigBytesString)  # Bytes of the single (freq/tstamp) sample = 16 -> int(Bytes/16) is the total number of samples"
   ]
  },
  {
   "cell_type": "code",
   "execution_count": null,
   "metadata": {},
   "outputs": [],
   "source": [
    "# Overlapping ADEV calculation\n",
    "\n",
    "start = time.time()\n",
    "\n",
    "freqtimearray = np.array(freqtimeList)                     # Convert list to numpy array\n",
    "freqarray=(freqtimearray[::2])                             # Take the elements of the array at even steps\n",
    "timearray=(freqtimearray[1::2])                            # Take the elements of the array at odd steps\n",
    " \n",
    "StepSize = (timearray[2:]-timearray[1:-1]).mean()          # Calculate the mean time delay between two consecutive frequency samples\n",
    "StepSize *= 1e-12                                          # From psec -> sec (only if data are taken in PAKED form)\n",
    "#print(StepSize)\n",
    "\n",
    "freqmean = freqarray.mean()                                # Calculate the mean frequency over all the frequency samples\n",
    "#print(freqmean)\n",
    "                                              \n",
    "Adevlist = []                                              # Define list: list=[] ; Define numpy array:  arr=np.array([])\n",
    "Sampleslist = []\n",
    "\n",
    "Taulist = [1e-5 * 10**(n/5) for n in range(20)]            # Define list of gate times (sec) - NotEvenlySpaced: 1e-5 * 2n - EvenlySpaced: 1e-5 * 10**(n/5) - ...\n",
    "\n",
    "for tau in Taulist:\n",
    "    \n",
    "    Tratio = int(round(tau/StepSize))                      # Take the nearest integer to the Tratio (i.e. Number of freq samples inside a specific Gate time)\n",
    "    #print(Tratio)\n",
    "        \n",
    "    freqarr = freqarray[::Tratio]                                                                   # Define an array with number of elements = Tratio\n",
    "    freqarr = np.array( [freqarray[Tratio*i:Tratio*(i+1)].mean() for i in range(len(freqarr))] )    # Average all the freq samples (# = Tratio) inside a specific Gate time\n",
    "    #print(len(freqarr))\n",
    "        \n",
    "    print(f'Gate time = {tau} s, Samples = {len(freqarr)}') \n",
    "                \n",
    "    deltafreqarray = (freqarr[1:]-freqarr[:-1])**2         # Calculate the square of all the differences of consecutive pairs of frequencies\n",
    "    #print(len(deltafreqarray))\n",
    "    adev = (np.mean(deltafreqarray)/2)**(1/2)              # Calculate Adev\n",
    "    print(adev)\n",
    "    #print(adev/freqmean)\n",
    "        \n",
    "    Adevlist.append(adev)                                                 # Append a value to the list at each iteration\n",
    "    Sampleslist.append(len(freqarr))                                      # Creating the Samples array for each Gate time (append the number of samples value at each iteration)\n",
    "         \n",
    "    #end = time.time()     \n",
    "    #print(end-start)                                                      # Acquisition time for each Gate time (sec)\n",
    "\n",
    "end = time.time()\n",
    "print(end-start)                                                          # Total acquisition time (sec)                                                             # Total acquisition time (sec)"
   ]
  },
  {
   "cell_type": "code",
   "execution_count": null,
   "metadata": {},
   "outputs": [],
   "source": [
    "print(Taulist)  \n",
    "print(Adevlist)\n",
    "print(Sampleslist)"
   ]
  },
  {
   "cell_type": "code",
   "execution_count": null,
   "metadata": {},
   "outputs": [],
   "source": [
    "# ADEV vs Gate time plot\n",
    "\n",
    "import matplotlib.pyplot as plt\n",
    "import pandas as pd\n",
    "\n",
    "# Convert lists to numpy arrays\n",
    "\n",
    "TauArray = np.array(Taulist)      \n",
    "AdevArray = np.array(Adevlist)\n",
    "SamplesArray = np.array(Sampleslist)\n",
    "\n",
    "print(repr(SamplesArray))\n",
    "print(repr(TauArray))\n",
    "print(repr(AdevArray))\n",
    "\n",
    "ADEVArray = AdevArray/freqmean   # Calculate normalized Adev\n",
    "\n",
    "print(repr(ADEVArray))\n",
    "\n",
    "plt.plot(TauArray, ADEVArray, 'o-')\n",
    "plt.xscale('log')\n",
    "plt.yscale('log')\n",
    "#plt.ticklabel_format(axis=\"y\", style=\"sci\", scilimits=(0,0))\n",
    "plt.title('ADEV vs Gate time')\n",
    "#plt.ylabel('Hz')\n",
    "plt.xlabel('sec')\n",
    "plt.show()"
   ]
  },
  {
   "cell_type": "code",
   "execution_count": null,
   "metadata": {},
   "outputs": [],
   "source": [
    "counter.write('*RST;*CLS') "
   ]
  },
  {
   "cell_type": "code",
   "execution_count": null,
   "metadata": {},
   "outputs": [],
   "source": [
    "counter.close()"
   ]
  }
 ],
 "metadata": {
  "kernelspec": {
   "display_name": "Python 3",
   "language": "python",
   "name": "python3"
  },
  "language_info": {
   "codemirror_mode": {
    "name": "ipython",
    "version": 3
   },
   "file_extension": ".py",
   "mimetype": "text/x-python",
   "name": "python",
   "nbconvert_exporter": "python",
   "pygments_lexer": "ipython3",
   "version": "3.6.7"
  }
 },
 "nbformat": 4,
 "nbformat_minor": 2
}
